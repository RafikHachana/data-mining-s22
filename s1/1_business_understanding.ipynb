{
 "cells": [
  {
   "cell_type": "markdown",
   "metadata": {
    "id": "_RbelOPK4TFB",
    "jp-MarkdownHeadingCollapsed": true,
    "tags": []
   },
   "source": [
    "# Business understanding\n",
    "------------\n",
    "\n",
    "This initial phase focuses on understanding the project objectives and requirements from a business perspective, then converting this knowledge into a data mining problem definition and a preliminary plan designed to achieve the objectives.\n"
   ]
  },
  {
   "cell_type": "markdown",
   "metadata": {
    "id": "77gTgxgz4PYQ",
    "jp-MarkdownHeadingCollapsed": true,
    "tags": []
   },
   "source": [
    "### determine business objectives"
   ]
  },
  {
   "cell_type": "markdown",
   "metadata": {
    "jp-MarkdownHeadingCollapsed": true,
    "tags": []
   },
   "source": [
    "#### background\n",
    "  Retail is currently the most popular method of selling goods and services to end-users. Retailers must keep up with consumer trends and offer products that are relevant to them. Consider the following facts regarding retail.\n",
    "\n",
    "\n",
    "There are two types of retailers: **online** and **offline**. Online stores increase competitiveness in the business and require retailers to carefully pick things for sale. Furthermore, internet merchants force stores to focus on a small range of commodities so that the online retailer can recommend higher-quality products to any consumer. It suggests that in order to make money, retailers should be aware of their customers' preferences.\n",
    "\n",
    "\n",
    "\n",
    "When it comes to purchasing goods, consumers have a plethora of options. It means that retailers have a lot of **competition** and must analyze customer preferences in order to make money.\n",
    "  \n",
    " The **retailer's income** is made up of things that have been sold. It indicates that in order to make a profit, the shop must maintain pricing control. There are two types of prices: \"cost-plus\" and \"suggested retails.\" In the first situation, the salesperson can adjust the pricing (for example make it higher). However, demand and competition prevent Saller from raising prices indefinitely. As a result, the store must determine the best pricing. Second, the maker determines the price of the product.\n",
    "\n",
    "#### business objectives\n",
    "  From the foregoing, we can deduce that the primary goal of the retail business is to maximize profit by selling goods from the store and to respond to customer demands as quickly as possible in order to avoid competition. It indicates that the retailer is interested in picking goods that will satisfy the merchant's customers as well as determining a price that will generate demand and revenue. As a result, the most important business questions are:\n",
    "\n",
    "\n",
    "- Which prices for which product may give me maximum income?\n",
    "- How many units of products can I sale for given price?\n",
    "\n",
    "\n",
    "#### business success criteria\n",
    "Higher profits from warehouse products and majority client happiness are two success factors for retailers. Furthermore, retailers want a strategy for selling products and a pricing for each product that allows them to sell the greatest number of things.\n"
   ]
  },
  {
   "cell_type": "markdown",
   "metadata": {
    "jp-MarkdownHeadingCollapsed": true,
    "tags": []
   },
   "source": [
    "### assess situation"
   ]
  },
  {
   "cell_type": "markdown",
   "metadata": {},
   "source": [
    "#### inventory of resources\n",
    "Now it's time to evaluate your staff resources. The project will be completed by a single person who will be responsible for the following roles: business experts, data experts, technological assistance, and data mining personnel.\n",
    "\n",
    "We are given a dataset that has the following columns: 'InvoiceNo, StockCode, Description, Quantity, InvoiceDate, UnitPrice, CustomerID, Country' and is **accessed with fix extracts**.\n",
    "\n",
    "Python (pandas and numpy) will be used to access the data.\n",
    "\n",
    "This project will be completed on a personal computer, with the possibility of deployment on a server (depending on the requirements).\n",
    "    \n",
    "#### requirements, assumptions and constraint\n",
    "    The deadline for this project is in two weeks. As a result, the project will be completed according to the **schedule of completion**. The first week will be spent developing business objectives, understanding data, and preprocessing data. The model and evaluation steps will be completed during the second week. The project will be deployed in the last two or three days.\n",
    "\n",
    "The following are the requirements for **comprehensibility and quality of results**. The outcome should be a description of the relationship between the quantity of sold products and the price.\n",
    "\n",
    "During the course of this project, information regarding the client's purchases was gathered. **Client purchases are private information that should be safeguarded**.\n",
    "\n",
    "Take into account all of the project's **assumptions**.\n",
    "    \n",
    ">Economic crisises,fashion or other external event may influence on customers' decisions, thus we assume that purchases list is independent from external factors.\n",
    "\n",
    ">We assume that customers preferences can be tracked with number of sold products.\n",
    "\n",
    "     constraint:\n",
    "Personal data may be subject to **restrictions**. First and foremost, the vast majority of businesses like to keep their data private, and their customers may be concerned about their data.\n",
    "Furthermore, we presently employ a dataset that exclusively considers retailer sales. We don't know how much a retailer spends on a product, therefore we can't estimate a price that will cover those costs.\n",
    "    \n",
    "    \n",
    "#### Risks and contingencies\n",
    "Because the given model does not account for external events, actual product relevance may differ from what is expected.\n",
    "\n",
    "Customers may switch stores, and new customers may be attracted to this retailer. This alters the preferences of a certain client segment. As a result, pricing should be reviewed on a regular basis.\n",
    "\n",
    "    \n",
    "#### Costs and benefits\n",
    "Assume that there is software available to track purchases. Consider the expense of employing a data analysis tool and assessing the demands of your customers with the help of an analyst team.\n",
    "First and foremost, consider the expense of employing tools to study client demand. The monthly cost of developing this application is 850 dollars (app will be ready during 3 month). When the project is complete, the store will spend $1120 each month.\n",
    "\n",
    "Finally, software costs 2550 dollars to create and 1120 dollars every month to maintain.\n",
    "\n",
    "\n",
    "Consider the advantages of using software and whether or not the shop will continue to analyze customers without it.\n",
    "To begin, demonstrate the benefits to the store if he or she uses software:\n",
    "\n",
    "- It needs less human resources\n",
    "\n",
    "- It can review clients' requirements more regularly and performs evaluations faster.\n",
    "    "
   ]
  },
  {
   "cell_type": "markdown",
   "metadata": {
    "jp-MarkdownHeadingCollapsed": true,
    "tags": []
   },
   "source": [
    "### determine data mining goals"
   ]
  },
  {
   "cell_type": "markdown",
   "metadata": {
    "jp-MarkdownHeadingCollapsed": true,
    "tags": []
   },
   "source": [
    "We have following business goals:\n",
    "- Which prices for which product may give me maximum income?\n",
    "- How many units of products can I sale for given price?\n",
    "- Which countries buy the biggest quantity of this product?\n",
    "\n",
    "Thus data mining goals is: \n",
    ">    Predict quantity for product if product name, price, country, customer,and date are given.\n",
    "\n",
    "#### data mining success criteria\n",
    "Accuracy of price in cross-validation MSE is higher then 95%."
   ]
  },
  {
   "cell_type": "markdown",
   "metadata": {
    "jp-MarkdownHeadingCollapsed": true,
    "tags": []
   },
   "source": [
    "### produce project plan"
   ]
  },
  {
   "cell_type": "markdown",
   "metadata": {
    "jp-MarkdownHeadingCollapsed": true,
    "tags": []
   },
   "source": [
    "#### project plan\n",
    "##### Understanding and preprocessing datasets\n",
    "    - 1 day duration\n",
    "    - Python is required as a resource (numpy, pandas)\n",
    "    - dataset as an input\n",
    "    - outputs: dataset that has been cleaned\n",
    "    - Tasks include: * checking for flaws in the dataset, such as empty cells, and correcting them; and * converting text to numerical datatypes.\n",
    "    - Assessment of the outcome:\n",
    "    - The output dataset can be utilized in machine learning algorithms (no text, nulls)\n",
    "##### Creating models\n",
    "    - duration: 2-3 days\n",
    "    - resources required: python (numpy, pandas)\n",
    "    - inputs: dataset\n",
    "    - outputs: dataset of prices\n",
    "    - Tasks:\n",
    "        - apply one of regrassion model for given task\n",
    "    - Evaluation of result: \n",
    "        - models provides some predictions (which will be evaluated during evaluation stage)\n",
    "    - Criteria:MSE\n",
    "##### Evaluation\n",
    "     - duration: 1 days\n",
    "     - resources required: python (numpy, pandas)\n",
    "     - inputs: predictions and dataset\n",
    "     - outputs: accuracy score\n",
    "     - Tasks:\n",
    "         - **use cross-validation and MSE**\n",
    "         - evaluate result of model stage\n",
    "         - check satisfaction with data mining goals and business goals\n",
    "         - determine next step (create or improve model, complete task)\n",
    "     - Evaluation criteria:MSE\n",
    "##### Deployment\n",
    "    - duration: 2 days\n",
    "    - resources required: python (numpy, pandas)\n",
    "    - inputs: predictions and dataset\n",
    "    - outputs: report\n",
    "    - Tasks:\n",
    "         - create report for project"
   ]
  }
 ],
 "metadata": {
  "colab": {
   "authorship_tag": "ABX9TyP0tcb9vN+g/E9NCP5Xbry9",
   "collapsed_sections": [],
   "name": "business-understanding.ipynb",
   "provenance": []
  },
  "kernelspec": {
   "display_name": "Python 3 (ipykernel)",
   "language": "python",
   "name": "python3"
  },
  "language_info": {
   "codemirror_mode": {
    "name": "ipython",
    "version": 3
   },
   "file_extension": ".py",
   "mimetype": "text/x-python",
   "name": "python",
   "nbconvert_exporter": "python",
   "pygments_lexer": "ipython3",
   "version": "3.8.8"
  }
 },
 "nbformat": 4,
 "nbformat_minor": 4
}
