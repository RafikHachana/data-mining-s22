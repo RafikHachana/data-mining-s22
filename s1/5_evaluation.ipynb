{
 "cells": [
  {
   "cell_type": "code",
   "execution_count": null,
   "metadata": {
    "id": "pzImNeOjy4jZ"
   },
   "outputs": [],
   "source": [
    "# import libraries\n",
    "import pandas as pd\n",
    "import numpy as np"
   ]
  },
  {
   "cell_type": "markdown",
   "metadata": {
    "id": "_RbelOPK4TFB",
    "jp-MarkdownHeadingCollapsed": true,
    "tags": []
   },
   "source": [
    "# evaluation\n",
    "---------------------\n",
    "At this stage in the project you have built a model (or models) that appears to have high quality from a data analysis perspective. Before proceeding to final deployment of the model, it is important to more thoroughly evaluate the model and review the steps executed to construct the model to be certain it properly achieves the business objectives. A key objective is to determine if there is some important business issue that has not been sufficiently considered. At the end of this phase, a decision on the use of the data mining results should be reached."
   ]
  },
  {
   "cell_type": "markdown",
   "metadata": {
    "id": "Wfrdzmhe0Zfr"
   },
   "source": [
    "## determine next steps\n",
    "----------\n",
    "\n",
    "### task\n",
    "\n",
    "According to the assessment results and the process review, the project decides how to proceed at this stage. The project needs to decide whether to finish this project and move on to deployment if appropriate or whether to initiate further iterations or set up new data mining projects. This task includes analyses of remaining resources and budget that influences the decisions.\n",
    "\n",
    "### output\n",
    "\n",
    "#### list of possible actions \n",
    "\n",
    "List the potential further actions along with the reasons for and against each option.\n",
    "\n",
    "#### Decision \n",
    "\n",
    "Describe the decision as to how to proceed along with the rationale.\n"
   ]
  },
  {
   "cell_type": "markdown",
   "metadata": {
    "id": "-u6lu6ep4EgC",
    "jp-MarkdownHeadingCollapsed": true,
    "tags": []
   },
   "source": [
    "# note/questions\n",
    "-------------\n",
    "\n",
    "#### evaluate model\n",
    "\n",
    "#### review process\n",
    "\n",
    "#### determine next step\n"
   ]
  },
  {
   "cell_type": "markdown",
   "metadata": {
    "tags": []
   },
   "source": [
    "### Evaluate result\n",
    "#### assessment of data mining results with respect to business success criteria\n",
    "This model allow retailer recive advices about most relevant goods based on contry and month. This model try to give advices about relevant goods every month. Which sutisfy business goals: learn more about clients, control customers' requests and satisfy them, suggest most relevant goods and earn higher income.\n",
    "#### approved models\n",
    "As previous section show, model satisfy business goals. Thus generated model is **approved**"
   ]
  },
  {
   "cell_type": "markdown",
   "metadata": {
    "tags": []
   },
   "source": [
    "### Answer review process\n",
    "During data preparation stage description was not used, so preparation and modeling stage  should be repeated with description processing.\n",
    "\n",
    "During modeling stage only Logistic Regression was used, this stage should be repeated with other models (ex: Naïve Bayes Classifier)\n",
    "\n",
    "Finally, datapreparation stage and modeling stage should be completed again to extract more data from dataset and evaluate other mode."
   ]
  },
  {
   "cell_type": "markdown",
   "metadata": {
    "tags": []
   },
   "source": [
    "### determine next steps\n",
    "#### list of possible actions\n",
    "- apply NLP model to extract data from text\n",
    "\n",
    "    `+` \n",
    "    - more information about product\n",
    "        \n",
    "    - some category of product more popular in some time period or country. Thus ML models need to be able to process it.\n",
    "    - more information for modeling\n",
    "    \n",
    "    `-` \n",
    "    - requier more time\n",
    "    - may bring higher error\n",
    "    \n",
    "- apply other ML models\n",
    "    \n",
    "    `+`\n",
    "    - we may found more suitable model.\n",
    "    \n",
    "    `-` \n",
    "    - requier more time\n",
    "\n",
    "#### Decisicion\n",
    "As both actions brings more advantages, it will be better to **complete all actions**: extract data from description, check other ML models."
   ]
  }
 ],
 "metadata": {
  "colab": {
   "authorship_tag": "ABX9TyN56UHBHmrfaXFDkddTWCbb",
   "collapsed_sections": [],
   "name": "evaluation.ipynb",
   "provenance": []
  },
  "kernelspec": {
   "display_name": "Python 3 (ipykernel)",
   "language": "python",
   "name": "python3"
  },
  "language_info": {
   "codemirror_mode": {
    "name": "ipython",
    "version": 3
   },
   "file_extension": ".py",
   "mimetype": "text/x-python",
   "name": "python",
   "nbconvert_exporter": "python",
   "pygments_lexer": "ipython3",
   "version": "3.8.8"
  }
 },
 "nbformat": 4,
 "nbformat_minor": 4
}
