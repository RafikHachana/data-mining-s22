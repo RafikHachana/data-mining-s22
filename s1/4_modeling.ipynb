{
  "cells": [
    {
      "cell_type": "code",
      "execution_count": 30,
      "metadata": {
        "colab": {
          "base_uri": "https://localhost:8080/"
        },
        "id": "8j4svxNYZIbx",
        "outputId": "62ddf148-8d8e-4062-cb04-2e0828e1e367"
      },
      "outputs": [
        {
          "output_type": "stream",
          "name": "stdout",
          "text": [
            "Requirement already satisfied: seaborn in /usr/local/lib/python3.7/dist-packages (0.11.2)\n",
            "Requirement already satisfied: numpy>=1.15 in /usr/local/lib/python3.7/dist-packages (from seaborn) (1.21.5)\n",
            "Requirement already satisfied: scipy>=1.0 in /usr/local/lib/python3.7/dist-packages (from seaborn) (1.4.1)\n",
            "Requirement already satisfied: matplotlib>=2.2 in /usr/local/lib/python3.7/dist-packages (from seaborn) (3.2.2)\n",
            "Requirement already satisfied: pandas>=0.23 in /usr/local/lib/python3.7/dist-packages (from seaborn) (1.3.5)\n",
            "Requirement already satisfied: pyparsing!=2.0.4,!=2.1.2,!=2.1.6,>=2.0.1 in /usr/local/lib/python3.7/dist-packages (from matplotlib>=2.2->seaborn) (3.0.7)\n",
            "Requirement already satisfied: kiwisolver>=1.0.1 in /usr/local/lib/python3.7/dist-packages (from matplotlib>=2.2->seaborn) (1.3.2)\n",
            "Requirement already satisfied: cycler>=0.10 in /usr/local/lib/python3.7/dist-packages (from matplotlib>=2.2->seaborn) (0.11.0)\n",
            "Requirement already satisfied: python-dateutil>=2.1 in /usr/local/lib/python3.7/dist-packages (from matplotlib>=2.2->seaborn) (2.8.2)\n",
            "Requirement already satisfied: pytz>=2017.3 in /usr/local/lib/python3.7/dist-packages (from pandas>=0.23->seaborn) (2018.9)\n",
            "Requirement already satisfied: six>=1.5 in /usr/local/lib/python3.7/dist-packages (from python-dateutil>=2.1->matplotlib>=2.2->seaborn) (1.15.0)\n"
          ]
        }
      ],
      "source": [
        "!pip install seaborn"
      ]
    },
    {
      "cell_type": "code",
      "execution_count": 32,
      "metadata": {
        "id": "znZX5gsxZIb0"
      },
      "outputs": [],
      "source": [
        "# import libraries\n",
        "import pandas as pd\n",
        "import numpy as np\n",
        "import seaborn as sns\n",
        "import matplotlib.pyplot as plt\n",
        "import matplotlib_inline\n",
        "%matplotlib inline"
      ]
    },
    {
      "cell_type": "code",
      "execution_count": 33,
      "metadata": {
        "id": "x2J518rmZIb2"
      },
      "outputs": [],
      "source": [
        "# set random seed\n",
        "import random\n",
        "random.seed(335)"
      ]
    },
    {
      "cell_type": "code",
      "execution_count": 34,
      "metadata": {
        "id": "7naeU20QZIb3"
      },
      "outputs": [],
      "source": [
        "# magic word\n",
        "pd.set_option('display.max_rows', 500)\n",
        "pd.set_option('display.max_columns', 500)"
      ]
    },
    {
      "cell_type": "code",
      "execution_count": 35,
      "metadata": {
        "id": "4waalLzpZIb3"
      },
      "outputs": [],
      "source": [
        "# for better viz\n",
        "import pprint\n",
        "import warnings\n",
        "warnings.filterwarnings('ignore')"
      ]
    },
    {
      "cell_type": "code",
      "execution_count": 36,
      "metadata": {
        "id": "2YjAVx4sZIb4"
      },
      "outputs": [],
      "source": [
        "df = pd.read_csv('./prepared_data.csv')"
      ]
    },
    {
      "cell_type": "code",
      "source": [
        "df"
      ],
      "metadata": {
        "colab": {
          "base_uri": "https://localhost:8080/",
          "height": 424
        },
        "id": "0uWNpSpO8_te",
        "outputId": "91c7cb3c-edad-4280-b91c-930e61969a8f"
      },
      "execution_count": 37,
      "outputs": [
        {
          "output_type": "execute_result",
          "data": {
            "text/html": [
              "\n",
              "  <div id=\"df-2c8914e7-d02d-4f9e-b019-75be217710fc\">\n",
              "    <div class=\"colab-df-container\">\n",
              "      <div>\n",
              "<style scoped>\n",
              "    .dataframe tbody tr th:only-of-type {\n",
              "        vertical-align: middle;\n",
              "    }\n",
              "\n",
              "    .dataframe tbody tr th {\n",
              "        vertical-align: top;\n",
              "    }\n",
              "\n",
              "    .dataframe thead th {\n",
              "        text-align: right;\n",
              "    }\n",
              "</style>\n",
              "<table border=\"1\" class=\"dataframe\">\n",
              "  <thead>\n",
              "    <tr style=\"text-align: right;\">\n",
              "      <th></th>\n",
              "      <th>Unnamed: 0</th>\n",
              "      <th>Quantity</th>\n",
              "      <th>UnitPrice</th>\n",
              "      <th>CustomerID</th>\n",
              "      <th>Day</th>\n",
              "      <th>Time</th>\n",
              "      <th>DescriptionCluster</th>\n",
              "      <th>Country0</th>\n",
              "      <th>Country1</th>\n",
              "      <th>Country2</th>\n",
              "    </tr>\n",
              "  </thead>\n",
              "  <tbody>\n",
              "    <tr>\n",
              "      <th>0</th>\n",
              "      <td>0</td>\n",
              "      <td>0.500040</td>\n",
              "      <td>2.55</td>\n",
              "      <td>0.926443</td>\n",
              "      <td>0.937677</td>\n",
              "      <td>0.156682</td>\n",
              "      <td>0.00</td>\n",
              "      <td>0.0</td>\n",
              "      <td>0.427772</td>\n",
              "      <td>0.422559</td>\n",
              "    </tr>\n",
              "    <tr>\n",
              "      <th>1</th>\n",
              "      <td>1</td>\n",
              "      <td>0.500040</td>\n",
              "      <td>3.39</td>\n",
              "      <td>0.926443</td>\n",
              "      <td>0.937677</td>\n",
              "      <td>0.156682</td>\n",
              "      <td>0.00</td>\n",
              "      <td>0.0</td>\n",
              "      <td>0.427772</td>\n",
              "      <td>0.422559</td>\n",
              "    </tr>\n",
              "    <tr>\n",
              "      <th>2</th>\n",
              "      <td>2</td>\n",
              "      <td>0.500054</td>\n",
              "      <td>2.75</td>\n",
              "      <td>0.926443</td>\n",
              "      <td>0.937677</td>\n",
              "      <td>0.156682</td>\n",
              "      <td>0.25</td>\n",
              "      <td>0.0</td>\n",
              "      <td>0.427772</td>\n",
              "      <td>0.422559</td>\n",
              "    </tr>\n",
              "    <tr>\n",
              "      <th>3</th>\n",
              "      <td>3</td>\n",
              "      <td>0.500040</td>\n",
              "      <td>3.39</td>\n",
              "      <td>0.926443</td>\n",
              "      <td>0.937677</td>\n",
              "      <td>0.156682</td>\n",
              "      <td>0.75</td>\n",
              "      <td>0.0</td>\n",
              "      <td>0.427772</td>\n",
              "      <td>0.422559</td>\n",
              "    </tr>\n",
              "    <tr>\n",
              "      <th>4</th>\n",
              "      <td>4</td>\n",
              "      <td>0.500040</td>\n",
              "      <td>3.39</td>\n",
              "      <td>0.926443</td>\n",
              "      <td>0.937677</td>\n",
              "      <td>0.156682</td>\n",
              "      <td>0.25</td>\n",
              "      <td>0.0</td>\n",
              "      <td>0.427772</td>\n",
              "      <td>0.422559</td>\n",
              "    </tr>\n",
              "    <tr>\n",
              "      <th>...</th>\n",
              "      <td>...</td>\n",
              "      <td>...</td>\n",
              "      <td>...</td>\n",
              "      <td>...</td>\n",
              "      <td>...</td>\n",
              "      <td>...</td>\n",
              "      <td>...</td>\n",
              "      <td>...</td>\n",
              "      <td>...</td>\n",
              "      <td>...</td>\n",
              "    </tr>\n",
              "    <tr>\n",
              "      <th>400614</th>\n",
              "      <td>400614</td>\n",
              "      <td>0.500081</td>\n",
              "      <td>1.25</td>\n",
              "      <td>0.102508</td>\n",
              "      <td>0.960340</td>\n",
              "      <td>0.294931</td>\n",
              "      <td>0.75</td>\n",
              "      <td>0.0</td>\n",
              "      <td>0.427772</td>\n",
              "      <td>0.422559</td>\n",
              "    </tr>\n",
              "    <tr>\n",
              "      <th>400615</th>\n",
              "      <td>400615</td>\n",
              "      <td>0.500162</td>\n",
              "      <td>0.42</td>\n",
              "      <td>0.102508</td>\n",
              "      <td>0.960340</td>\n",
              "      <td>0.294931</td>\n",
              "      <td>0.50</td>\n",
              "      <td>0.0</td>\n",
              "      <td>0.427772</td>\n",
              "      <td>0.422559</td>\n",
              "    </tr>\n",
              "    <tr>\n",
              "      <th>400616</th>\n",
              "      <td>400616</td>\n",
              "      <td>0.500027</td>\n",
              "      <td>3.75</td>\n",
              "      <td>0.102508</td>\n",
              "      <td>0.960340</td>\n",
              "      <td>0.294931</td>\n",
              "      <td>0.75</td>\n",
              "      <td>0.0</td>\n",
              "      <td>0.427772</td>\n",
              "      <td>0.422559</td>\n",
              "    </tr>\n",
              "    <tr>\n",
              "      <th>400617</th>\n",
              "      <td>400617</td>\n",
              "      <td>0.500081</td>\n",
              "      <td>1.65</td>\n",
              "      <td>0.102508</td>\n",
              "      <td>0.960340</td>\n",
              "      <td>0.294931</td>\n",
              "      <td>0.50</td>\n",
              "      <td>0.0</td>\n",
              "      <td>0.427772</td>\n",
              "      <td>0.422559</td>\n",
              "    </tr>\n",
              "    <tr>\n",
              "      <th>400618</th>\n",
              "      <td>400618</td>\n",
              "      <td>0.500081</td>\n",
              "      <td>1.65</td>\n",
              "      <td>0.102508</td>\n",
              "      <td>0.960340</td>\n",
              "      <td>0.294931</td>\n",
              "      <td>0.25</td>\n",
              "      <td>0.0</td>\n",
              "      <td>0.427772</td>\n",
              "      <td>0.422559</td>\n",
              "    </tr>\n",
              "  </tbody>\n",
              "</table>\n",
              "<p>400619 rows × 10 columns</p>\n",
              "</div>\n",
              "      <button class=\"colab-df-convert\" onclick=\"convertToInteractive('df-2c8914e7-d02d-4f9e-b019-75be217710fc')\"\n",
              "              title=\"Convert this dataframe to an interactive table.\"\n",
              "              style=\"display:none;\">\n",
              "        \n",
              "  <svg xmlns=\"http://www.w3.org/2000/svg\" height=\"24px\"viewBox=\"0 0 24 24\"\n",
              "       width=\"24px\">\n",
              "    <path d=\"M0 0h24v24H0V0z\" fill=\"none\"/>\n",
              "    <path d=\"M18.56 5.44l.94 2.06.94-2.06 2.06-.94-2.06-.94-.94-2.06-.94 2.06-2.06.94zm-11 1L8.5 8.5l.94-2.06 2.06-.94-2.06-.94L8.5 2.5l-.94 2.06-2.06.94zm10 10l.94 2.06.94-2.06 2.06-.94-2.06-.94-.94-2.06-.94 2.06-2.06.94z\"/><path d=\"M17.41 7.96l-1.37-1.37c-.4-.4-.92-.59-1.43-.59-.52 0-1.04.2-1.43.59L10.3 9.45l-7.72 7.72c-.78.78-.78 2.05 0 2.83L4 21.41c.39.39.9.59 1.41.59.51 0 1.02-.2 1.41-.59l7.78-7.78 2.81-2.81c.8-.78.8-2.07 0-2.86zM5.41 20L4 18.59l7.72-7.72 1.47 1.35L5.41 20z\"/>\n",
              "  </svg>\n",
              "      </button>\n",
              "      \n",
              "  <style>\n",
              "    .colab-df-container {\n",
              "      display:flex;\n",
              "      flex-wrap:wrap;\n",
              "      gap: 12px;\n",
              "    }\n",
              "\n",
              "    .colab-df-convert {\n",
              "      background-color: #E8F0FE;\n",
              "      border: none;\n",
              "      border-radius: 50%;\n",
              "      cursor: pointer;\n",
              "      display: none;\n",
              "      fill: #1967D2;\n",
              "      height: 32px;\n",
              "      padding: 0 0 0 0;\n",
              "      width: 32px;\n",
              "    }\n",
              "\n",
              "    .colab-df-convert:hover {\n",
              "      background-color: #E2EBFA;\n",
              "      box-shadow: 0px 1px 2px rgba(60, 64, 67, 0.3), 0px 1px 3px 1px rgba(60, 64, 67, 0.15);\n",
              "      fill: #174EA6;\n",
              "    }\n",
              "\n",
              "    [theme=dark] .colab-df-convert {\n",
              "      background-color: #3B4455;\n",
              "      fill: #D2E3FC;\n",
              "    }\n",
              "\n",
              "    [theme=dark] .colab-df-convert:hover {\n",
              "      background-color: #434B5C;\n",
              "      box-shadow: 0px 1px 3px 1px rgba(0, 0, 0, 0.15);\n",
              "      filter: drop-shadow(0px 1px 2px rgba(0, 0, 0, 0.3));\n",
              "      fill: #FFFFFF;\n",
              "    }\n",
              "  </style>\n",
              "\n",
              "      <script>\n",
              "        const buttonEl =\n",
              "          document.querySelector('#df-2c8914e7-d02d-4f9e-b019-75be217710fc button.colab-df-convert');\n",
              "        buttonEl.style.display =\n",
              "          google.colab.kernel.accessAllowed ? 'block' : 'none';\n",
              "\n",
              "        async function convertToInteractive(key) {\n",
              "          const element = document.querySelector('#df-2c8914e7-d02d-4f9e-b019-75be217710fc');\n",
              "          const dataTable =\n",
              "            await google.colab.kernel.invokeFunction('convertToInteractive',\n",
              "                                                     [key], {});\n",
              "          if (!dataTable) return;\n",
              "\n",
              "          const docLinkHtml = 'Like what you see? Visit the ' +\n",
              "            '<a target=\"_blank\" href=https://colab.research.google.com/notebooks/data_table.ipynb>data table notebook</a>'\n",
              "            + ' to learn more about interactive tables.';\n",
              "          element.innerHTML = '';\n",
              "          dataTable['output_type'] = 'display_data';\n",
              "          await google.colab.output.renderOutput(dataTable, element);\n",
              "          const docLink = document.createElement('div');\n",
              "          docLink.innerHTML = docLinkHtml;\n",
              "          element.appendChild(docLink);\n",
              "        }\n",
              "      </script>\n",
              "    </div>\n",
              "  </div>\n",
              "  "
            ],
            "text/plain": [
              "        Unnamed: 0  Quantity  UnitPrice  CustomerID       Day      Time  \\\n",
              "0                0  0.500040       2.55    0.926443  0.937677  0.156682   \n",
              "1                1  0.500040       3.39    0.926443  0.937677  0.156682   \n",
              "2                2  0.500054       2.75    0.926443  0.937677  0.156682   \n",
              "3                3  0.500040       3.39    0.926443  0.937677  0.156682   \n",
              "4                4  0.500040       3.39    0.926443  0.937677  0.156682   \n",
              "...            ...       ...        ...         ...       ...       ...   \n",
              "400614      400614  0.500081       1.25    0.102508  0.960340  0.294931   \n",
              "400615      400615  0.500162       0.42    0.102508  0.960340  0.294931   \n",
              "400616      400616  0.500027       3.75    0.102508  0.960340  0.294931   \n",
              "400617      400617  0.500081       1.65    0.102508  0.960340  0.294931   \n",
              "400618      400618  0.500081       1.65    0.102508  0.960340  0.294931   \n",
              "\n",
              "        DescriptionCluster  Country0  Country1  Country2  \n",
              "0                     0.00       0.0  0.427772  0.422559  \n",
              "1                     0.00       0.0  0.427772  0.422559  \n",
              "2                     0.25       0.0  0.427772  0.422559  \n",
              "3                     0.75       0.0  0.427772  0.422559  \n",
              "4                     0.25       0.0  0.427772  0.422559  \n",
              "...                    ...       ...       ...       ...  \n",
              "400614                0.75       0.0  0.427772  0.422559  \n",
              "400615                0.50       0.0  0.427772  0.422559  \n",
              "400616                0.75       0.0  0.427772  0.422559  \n",
              "400617                0.50       0.0  0.427772  0.422559  \n",
              "400618                0.25       0.0  0.427772  0.422559  \n",
              "\n",
              "[400619 rows x 10 columns]"
            ]
          },
          "metadata": {},
          "execution_count": 37
        }
      ]
    },
    {
      "cell_type": "code",
      "execution_count": 38,
      "metadata": {
        "colab": {
          "base_uri": "https://localhost:8080/",
          "height": 476
        },
        "id": "_I9TA8GFZIb6",
        "outputId": "9807a971-22a3-421f-b70b-435819a13594"
      },
      "outputs": [
        {
          "output_type": "stream",
          "name": "stdout",
          "text": [
            "Index(['Unnamed: 0', 'Quantity', 'UnitPrice', 'CustomerID', 'Day', 'Time',\n",
            "       'DescriptionCluster', 'Country0', 'Country1', 'Country2'],\n",
            "      dtype='object')\n"
          ]
        },
        {
          "output_type": "execute_result",
          "data": {
            "text/html": [
              "\n",
              "  <div id=\"df-ac1bd733-6ef4-402f-9184-576fc16583c4\">\n",
              "    <div class=\"colab-df-container\">\n",
              "      <div>\n",
              "<style scoped>\n",
              "    .dataframe tbody tr th:only-of-type {\n",
              "        vertical-align: middle;\n",
              "    }\n",
              "\n",
              "    .dataframe tbody tr th {\n",
              "        vertical-align: top;\n",
              "    }\n",
              "\n",
              "    .dataframe thead th {\n",
              "        text-align: right;\n",
              "    }\n",
              "</style>\n",
              "<table border=\"1\" class=\"dataframe\">\n",
              "  <thead>\n",
              "    <tr style=\"text-align: right;\">\n",
              "      <th></th>\n",
              "      <th>Quantity</th>\n",
              "      <th>UnitPrice</th>\n",
              "      <th>CustomerID</th>\n",
              "      <th>Day</th>\n",
              "      <th>Time</th>\n",
              "      <th>DescriptionCluster</th>\n",
              "      <th>Country0</th>\n",
              "      <th>Country1</th>\n",
              "      <th>Country2</th>\n",
              "    </tr>\n",
              "  </thead>\n",
              "  <tbody>\n",
              "    <tr>\n",
              "      <th>0</th>\n",
              "      <td>0.500040</td>\n",
              "      <td>2.55</td>\n",
              "      <td>0.926443</td>\n",
              "      <td>0.937677</td>\n",
              "      <td>0.156682</td>\n",
              "      <td>0.00</td>\n",
              "      <td>0.0</td>\n",
              "      <td>0.427772</td>\n",
              "      <td>0.422559</td>\n",
              "    </tr>\n",
              "    <tr>\n",
              "      <th>1</th>\n",
              "      <td>0.500040</td>\n",
              "      <td>3.39</td>\n",
              "      <td>0.926443</td>\n",
              "      <td>0.937677</td>\n",
              "      <td>0.156682</td>\n",
              "      <td>0.00</td>\n",
              "      <td>0.0</td>\n",
              "      <td>0.427772</td>\n",
              "      <td>0.422559</td>\n",
              "    </tr>\n",
              "    <tr>\n",
              "      <th>2</th>\n",
              "      <td>0.500054</td>\n",
              "      <td>2.75</td>\n",
              "      <td>0.926443</td>\n",
              "      <td>0.937677</td>\n",
              "      <td>0.156682</td>\n",
              "      <td>0.25</td>\n",
              "      <td>0.0</td>\n",
              "      <td>0.427772</td>\n",
              "      <td>0.422559</td>\n",
              "    </tr>\n",
              "    <tr>\n",
              "      <th>3</th>\n",
              "      <td>0.500040</td>\n",
              "      <td>3.39</td>\n",
              "      <td>0.926443</td>\n",
              "      <td>0.937677</td>\n",
              "      <td>0.156682</td>\n",
              "      <td>0.75</td>\n",
              "      <td>0.0</td>\n",
              "      <td>0.427772</td>\n",
              "      <td>0.422559</td>\n",
              "    </tr>\n",
              "    <tr>\n",
              "      <th>4</th>\n",
              "      <td>0.500040</td>\n",
              "      <td>3.39</td>\n",
              "      <td>0.926443</td>\n",
              "      <td>0.937677</td>\n",
              "      <td>0.156682</td>\n",
              "      <td>0.25</td>\n",
              "      <td>0.0</td>\n",
              "      <td>0.427772</td>\n",
              "      <td>0.422559</td>\n",
              "    </tr>\n",
              "    <tr>\n",
              "      <th>...</th>\n",
              "      <td>...</td>\n",
              "      <td>...</td>\n",
              "      <td>...</td>\n",
              "      <td>...</td>\n",
              "      <td>...</td>\n",
              "      <td>...</td>\n",
              "      <td>...</td>\n",
              "      <td>...</td>\n",
              "      <td>...</td>\n",
              "    </tr>\n",
              "    <tr>\n",
              "      <th>400614</th>\n",
              "      <td>0.500081</td>\n",
              "      <td>1.25</td>\n",
              "      <td>0.102508</td>\n",
              "      <td>0.960340</td>\n",
              "      <td>0.294931</td>\n",
              "      <td>0.75</td>\n",
              "      <td>0.0</td>\n",
              "      <td>0.427772</td>\n",
              "      <td>0.422559</td>\n",
              "    </tr>\n",
              "    <tr>\n",
              "      <th>400615</th>\n",
              "      <td>0.500162</td>\n",
              "      <td>0.42</td>\n",
              "      <td>0.102508</td>\n",
              "      <td>0.960340</td>\n",
              "      <td>0.294931</td>\n",
              "      <td>0.50</td>\n",
              "      <td>0.0</td>\n",
              "      <td>0.427772</td>\n",
              "      <td>0.422559</td>\n",
              "    </tr>\n",
              "    <tr>\n",
              "      <th>400616</th>\n",
              "      <td>0.500027</td>\n",
              "      <td>3.75</td>\n",
              "      <td>0.102508</td>\n",
              "      <td>0.960340</td>\n",
              "      <td>0.294931</td>\n",
              "      <td>0.75</td>\n",
              "      <td>0.0</td>\n",
              "      <td>0.427772</td>\n",
              "      <td>0.422559</td>\n",
              "    </tr>\n",
              "    <tr>\n",
              "      <th>400617</th>\n",
              "      <td>0.500081</td>\n",
              "      <td>1.65</td>\n",
              "      <td>0.102508</td>\n",
              "      <td>0.960340</td>\n",
              "      <td>0.294931</td>\n",
              "      <td>0.50</td>\n",
              "      <td>0.0</td>\n",
              "      <td>0.427772</td>\n",
              "      <td>0.422559</td>\n",
              "    </tr>\n",
              "    <tr>\n",
              "      <th>400618</th>\n",
              "      <td>0.500081</td>\n",
              "      <td>1.65</td>\n",
              "      <td>0.102508</td>\n",
              "      <td>0.960340</td>\n",
              "      <td>0.294931</td>\n",
              "      <td>0.25</td>\n",
              "      <td>0.0</td>\n",
              "      <td>0.427772</td>\n",
              "      <td>0.422559</td>\n",
              "    </tr>\n",
              "  </tbody>\n",
              "</table>\n",
              "<p>400619 rows × 9 columns</p>\n",
              "</div>\n",
              "      <button class=\"colab-df-convert\" onclick=\"convertToInteractive('df-ac1bd733-6ef4-402f-9184-576fc16583c4')\"\n",
              "              title=\"Convert this dataframe to an interactive table.\"\n",
              "              style=\"display:none;\">\n",
              "        \n",
              "  <svg xmlns=\"http://www.w3.org/2000/svg\" height=\"24px\"viewBox=\"0 0 24 24\"\n",
              "       width=\"24px\">\n",
              "    <path d=\"M0 0h24v24H0V0z\" fill=\"none\"/>\n",
              "    <path d=\"M18.56 5.44l.94 2.06.94-2.06 2.06-.94-2.06-.94-.94-2.06-.94 2.06-2.06.94zm-11 1L8.5 8.5l.94-2.06 2.06-.94-2.06-.94L8.5 2.5l-.94 2.06-2.06.94zm10 10l.94 2.06.94-2.06 2.06-.94-2.06-.94-.94-2.06-.94 2.06-2.06.94z\"/><path d=\"M17.41 7.96l-1.37-1.37c-.4-.4-.92-.59-1.43-.59-.52 0-1.04.2-1.43.59L10.3 9.45l-7.72 7.72c-.78.78-.78 2.05 0 2.83L4 21.41c.39.39.9.59 1.41.59.51 0 1.02-.2 1.41-.59l7.78-7.78 2.81-2.81c.8-.78.8-2.07 0-2.86zM5.41 20L4 18.59l7.72-7.72 1.47 1.35L5.41 20z\"/>\n",
              "  </svg>\n",
              "      </button>\n",
              "      \n",
              "  <style>\n",
              "    .colab-df-container {\n",
              "      display:flex;\n",
              "      flex-wrap:wrap;\n",
              "      gap: 12px;\n",
              "    }\n",
              "\n",
              "    .colab-df-convert {\n",
              "      background-color: #E8F0FE;\n",
              "      border: none;\n",
              "      border-radius: 50%;\n",
              "      cursor: pointer;\n",
              "      display: none;\n",
              "      fill: #1967D2;\n",
              "      height: 32px;\n",
              "      padding: 0 0 0 0;\n",
              "      width: 32px;\n",
              "    }\n",
              "\n",
              "    .colab-df-convert:hover {\n",
              "      background-color: #E2EBFA;\n",
              "      box-shadow: 0px 1px 2px rgba(60, 64, 67, 0.3), 0px 1px 3px 1px rgba(60, 64, 67, 0.15);\n",
              "      fill: #174EA6;\n",
              "    }\n",
              "\n",
              "    [theme=dark] .colab-df-convert {\n",
              "      background-color: #3B4455;\n",
              "      fill: #D2E3FC;\n",
              "    }\n",
              "\n",
              "    [theme=dark] .colab-df-convert:hover {\n",
              "      background-color: #434B5C;\n",
              "      box-shadow: 0px 1px 3px 1px rgba(0, 0, 0, 0.15);\n",
              "      filter: drop-shadow(0px 1px 2px rgba(0, 0, 0, 0.3));\n",
              "      fill: #FFFFFF;\n",
              "    }\n",
              "  </style>\n",
              "\n",
              "      <script>\n",
              "        const buttonEl =\n",
              "          document.querySelector('#df-ac1bd733-6ef4-402f-9184-576fc16583c4 button.colab-df-convert');\n",
              "        buttonEl.style.display =\n",
              "          google.colab.kernel.accessAllowed ? 'block' : 'none';\n",
              "\n",
              "        async function convertToInteractive(key) {\n",
              "          const element = document.querySelector('#df-ac1bd733-6ef4-402f-9184-576fc16583c4');\n",
              "          const dataTable =\n",
              "            await google.colab.kernel.invokeFunction('convertToInteractive',\n",
              "                                                     [key], {});\n",
              "          if (!dataTable) return;\n",
              "\n",
              "          const docLinkHtml = 'Like what you see? Visit the ' +\n",
              "            '<a target=\"_blank\" href=https://colab.research.google.com/notebooks/data_table.ipynb>data table notebook</a>'\n",
              "            + ' to learn more about interactive tables.';\n",
              "          element.innerHTML = '';\n",
              "          dataTable['output_type'] = 'display_data';\n",
              "          await google.colab.output.renderOutput(dataTable, element);\n",
              "          const docLink = document.createElement('div');\n",
              "          docLink.innerHTML = docLinkHtml;\n",
              "          element.appendChild(docLink);\n",
              "        }\n",
              "      </script>\n",
              "    </div>\n",
              "  </div>\n",
              "  "
            ],
            "text/plain": [
              "        Quantity  UnitPrice  CustomerID       Day      Time  \\\n",
              "0       0.500040       2.55    0.926443  0.937677  0.156682   \n",
              "1       0.500040       3.39    0.926443  0.937677  0.156682   \n",
              "2       0.500054       2.75    0.926443  0.937677  0.156682   \n",
              "3       0.500040       3.39    0.926443  0.937677  0.156682   \n",
              "4       0.500040       3.39    0.926443  0.937677  0.156682   \n",
              "...          ...        ...         ...       ...       ...   \n",
              "400614  0.500081       1.25    0.102508  0.960340  0.294931   \n",
              "400615  0.500162       0.42    0.102508  0.960340  0.294931   \n",
              "400616  0.500027       3.75    0.102508  0.960340  0.294931   \n",
              "400617  0.500081       1.65    0.102508  0.960340  0.294931   \n",
              "400618  0.500081       1.65    0.102508  0.960340  0.294931   \n",
              "\n",
              "        DescriptionCluster  Country0  Country1  Country2  \n",
              "0                     0.00       0.0  0.427772  0.422559  \n",
              "1                     0.00       0.0  0.427772  0.422559  \n",
              "2                     0.25       0.0  0.427772  0.422559  \n",
              "3                     0.75       0.0  0.427772  0.422559  \n",
              "4                     0.25       0.0  0.427772  0.422559  \n",
              "...                    ...       ...       ...       ...  \n",
              "400614                0.75       0.0  0.427772  0.422559  \n",
              "400615                0.50       0.0  0.427772  0.422559  \n",
              "400616                0.75       0.0  0.427772  0.422559  \n",
              "400617                0.50       0.0  0.427772  0.422559  \n",
              "400618                0.25       0.0  0.427772  0.422559  \n",
              "\n",
              "[400619 rows x 9 columns]"
            ]
          },
          "metadata": {},
          "execution_count": 38
        }
      ],
      "source": [
        "print(df.columns)\n",
        "\n",
        "df.drop(columns=['Unnamed: 0'], inplace=True)\n",
        "\n",
        "df"
      ]
    },
    {
      "cell_type": "code",
      "execution_count": 39,
      "metadata": {
        "id": "x99wkX38ZIb6"
      },
      "outputs": [],
      "source": [
        "x = df.loc[:, df.columns != 'UnitPrice'].values\n",
        "\n",
        "y = df.loc[:, 'UnitPrice'].values"
      ]
    },
    {
      "cell_type": "code",
      "execution_count": 40,
      "metadata": {
        "colab": {
          "base_uri": "https://localhost:8080/"
        },
        "id": "1CzhA4RLZIb7",
        "outputId": "e29f05d3-38f2-4aa1-fcde-0925cdc91558"
      },
      "outputs": [
        {
          "output_type": "stream",
          "name": "stdout",
          "text": [
            "(400619, 8)\n"
          ]
        }
      ],
      "source": [
        "print(x.shape)"
      ]
    },
    {
      "cell_type": "code",
      "execution_count": 41,
      "metadata": {
        "id": "H5lBP6lRZIb8"
      },
      "outputs": [],
      "source": [
        "from sklearn.model_selection import train_test_split\n",
        "\n",
        "x_train, x_test, y_train, y_test = train_test_split(x, y, test_size=0.2)"
      ]
    },
    {
      "cell_type": "code",
      "execution_count": 42,
      "metadata": {
        "colab": {
          "base_uri": "https://localhost:8080/"
        },
        "id": "dmH0jlyrZIb9",
        "outputId": "3809482f-de3a-45ee-83a9-3be7a34be691"
      },
      "outputs": [
        {
          "output_type": "stream",
          "name": "stdout",
          "text": [
            "(320495, 8)\n",
            "(80124, 8)\n",
            "(320495,)\n"
          ]
        }
      ],
      "source": [
        "print(x_train.shape)\n",
        "print(x_test.shape)\n",
        "print(y_train.shape)"
      ]
    },
    {
      "cell_type": "code",
      "source": [
        "from keras.models import Sequential\n",
        "from keras.layers import Dense\n",
        "\n",
        "model = Sequential()\n",
        "model.add(Dense(12, input_dim=8, activation='linear'))\n",
        "model.add(Dense(8, activation='sigmoid'))\n",
        "# model.add(Dense(8, activation='sigmoid'))\n",
        "model.add(Dense(1, activation='linear'))\n",
        "\n",
        "model.compile(loss='mean_absolute_error', optimizer='adam', metrics=['mean_absolute_error'])"
      ],
      "metadata": {
        "id": "K_alwkyVhAGd"
      },
      "execution_count": 52,
      "outputs": []
    },
    {
      "cell_type": "code",
      "execution_count": null,
      "metadata": {
        "id": "GhNMTKmFZIb9"
      },
      "outputs": [],
      "source": [
        "# from sklearn.preprocessing import PolynomialFeatures\n",
        "# from sklearn.pipeline import Pipeline\n",
        "# from sklearn.linear_model import LinearRegression\n",
        "\n",
        "# # define the pipeline and train model\n",
        "# model = Pipeline([('poly', PolynomialFeatures(degree=2)),\n",
        "#                   ('linear', LinearRegression())])\n",
        "                  \n",
        "# model.fit(x_train, y_train)\n",
        "\n",
        "# # print out regression coefficients\n",
        "# print(model.named_steps['linear'].coef_)    \n",
        "# print(model.named_steps['linear'].intercept_)"
      ]
    },
    {
      "cell_type": "code",
      "source": [
        "model.fit(x_train, y_train, epochs=15, batch_size=15)"
      ],
      "metadata": {
        "colab": {
          "base_uri": "https://localhost:8080/"
        },
        "id": "EE2cspZ98Jj0",
        "outputId": "5a122e4e-d874-4da6-dbeb-bc5b3f74289b"
      },
      "execution_count": 53,
      "outputs": [
        {
          "output_type": "stream",
          "name": "stdout",
          "text": [
            "Epoch 1/15\n",
            "21367/21367 [==============================] - 49s 2ms/step - loss: 2.2611 - mean_absolute_error: 2.2611\n",
            "Epoch 2/15\n",
            "21367/21367 [==============================] - 49s 2ms/step - loss: 2.2590 - mean_absolute_error: 2.2590\n",
            "Epoch 3/15\n",
            "21367/21367 [==============================] - 48s 2ms/step - loss: 2.2589 - mean_absolute_error: 2.2589\n",
            "Epoch 4/15\n",
            "21367/21367 [==============================] - 48s 2ms/step - loss: 2.2587 - mean_absolute_error: 2.2587\n",
            "Epoch 5/15\n",
            "21367/21367 [==============================] - 48s 2ms/step - loss: 2.2585 - mean_absolute_error: 2.2585\n",
            "Epoch 6/15\n",
            "21367/21367 [==============================] - 48s 2ms/step - loss: 2.2582 - mean_absolute_error: 2.2582\n",
            "Epoch 7/15\n",
            "21367/21367 [==============================] - 48s 2ms/step - loss: 2.2580 - mean_absolute_error: 2.2580\n",
            "Epoch 8/15\n",
            "21367/21367 [==============================] - 48s 2ms/step - loss: 2.2578 - mean_absolute_error: 2.2578\n",
            "Epoch 9/15\n",
            "21367/21367 [==============================] - 49s 2ms/step - loss: 2.2578 - mean_absolute_error: 2.2578\n",
            "Epoch 10/15\n",
            "21367/21367 [==============================] - 48s 2ms/step - loss: 2.2577 - mean_absolute_error: 2.2577\n",
            "Epoch 11/15\n",
            "21367/21367 [==============================] - 48s 2ms/step - loss: 2.2576 - mean_absolute_error: 2.2576\n",
            "Epoch 12/15\n",
            "21367/21367 [==============================] - 48s 2ms/step - loss: 2.2576 - mean_absolute_error: 2.2576\n",
            "Epoch 13/15\n",
            "21367/21367 [==============================] - 48s 2ms/step - loss: 2.2576 - mean_absolute_error: 2.2576\n",
            "Epoch 14/15\n",
            "21367/21367 [==============================] - 48s 2ms/step - loss: 2.2575 - mean_absolute_error: 2.2575\n",
            "Epoch 15/15\n",
            "21367/21367 [==============================] - 49s 2ms/step - loss: 2.2575 - mean_absolute_error: 2.2575\n"
          ]
        },
        {
          "output_type": "execute_result",
          "data": {
            "text/plain": [
              "<keras.callbacks.History at 0x7f68b620cd90>"
            ]
          },
          "metadata": {},
          "execution_count": 53
        }
      ]
    },
    {
      "cell_type": "code",
      "execution_count": 54,
      "metadata": {
        "id": "wRIkqavbZIb-",
        "outputId": "f9c1b3a1-c3be-417d-d39f-bd91a2f433f8",
        "colab": {
          "base_uri": "https://localhost:8080/"
        }
      },
      "outputs": [
        {
          "output_type": "stream",
          "name": "stdout",
          "text": [
            "2.106747416924504\n"
          ]
        }
      ],
      "source": [
        "pred = model.predict(x_test)\n",
        "pred = pred.flatten()\n",
        "from sklearn.metrics import mean_absolute_error\n",
        "\n",
        "print(mean_absolute_error(pred, y_test))"
      ]
    },
    {
      "cell_type": "code",
      "execution_count": 46,
      "metadata": {
        "id": "rSLDoelLZIb-",
        "outputId": "9deb0c74-421e-4add-a473-763b5f2b3945",
        "colab": {
          "base_uri": "https://localhost:8080/"
        }
      },
      "outputs": [
        {
          "output_type": "stream",
          "name": "stdout",
          "text": [
            "2.351131358893715\n"
          ]
        }
      ],
      "source": [
        "from sklearn.metrics import mean_absolute_error\n",
        "\n",
        "print(mean_absolute_error(pred, y_test))"
      ]
    },
    {
      "cell_type": "code",
      "execution_count": 55,
      "metadata": {
        "id": "-2zC0DV6ZIb_",
        "outputId": "8fe58e32-c364-4041-80c7-c145e3feb963",
        "colab": {
          "base_uri": "https://localhost:8080/"
        }
      },
      "outputs": [
        {
          "output_type": "stream",
          "name": "stdout",
          "text": [
            "1.9063859 8.5\n",
            "1.7305596 1.25\n",
            "1.7120664 1.25\n",
            "1.9225142 1.25\n",
            "1.8107207 8.25\n",
            "1.6588862 0.42\n",
            "1.802067 2.1\n",
            "1.7245352 1.25\n",
            "1.9212902 7.5\n",
            "1.6210995 2.08\n"
          ]
        }
      ],
      "source": [
        "for i in range(10):\n",
        "    print(pred[i], y_test[i])"
      ]
    },
    {
      "cell_type": "markdown",
      "metadata": {
        "id": "ySddVAXNZIb_"
      },
      "source": [
        "### reference\n",
        "-------------------\n",
        "\n",
        "- [pandas cheat sheet](https://github.com/pandas-dev/pandas/tree/master/doc/cheatsheet)\n",
        "- [numpy cheat sheet(data camp)](https://www.datacamp.com/community/blog/python-numpy-cheat-sheet)\n",
        "- [scikit-learn cheat sheet(data camp)](datacamp.com/community/blog/scikit-learn-cheat-sheet)"
      ]
    },
    {
      "cell_type": "markdown",
      "metadata": {
        "id": "_RbelOPK4TFB"
      },
      "source": [
        "# modeling\n",
        "---------------------\n",
        "In this phase, various modeling techniques are selected and applied and their parameters are calibrated to optimal values. Typically, there are several techniques for the same data mining problem type. Some techniques have specific requirements on the form of data. Therefore, stepping back to the data preparation phase is often necessary."
      ]
    },
    {
      "cell_type": "markdown",
      "metadata": {
        "id": "Wfrdzmhe0Zfr"
      },
      "source": [
        "## select modeling techuique\n",
        "----------\n",
        "\n",
        "### task\n",
        "\n",
        "As the first step in modeling, select the actual modeling technique that is to be used. Whereas you possibly already selected a tool in business understanding, this task refers to the specific modeling technique, e.g.,decision tree building with C4.5 or neural network generation with back propagation. If multiple techniques are applied, perform this task for each technique separately.\n",
        "\n",
        "### output\n",
        "\n",
        "#### modeling technique\n",
        "\n",
        "Document the actual modeling technique that is to be used.\n",
        "\n",
        "#### modeling assumptions\n",
        "\n",
        "Many modeling techniques make specific assumptions on the data, e.g.,all attributes have uniform distributions, no missing values allowed, class attribute must be symbolic etc. Record any such assumptions made."
      ]
    },
    {
      "cell_type": "markdown",
      "metadata": {
        "id": "z96XRRRuZIcD"
      },
      "source": [
        "### Answer: select modeling technique\n",
        "#### modeling\n",
        "- [x] Logistic regression\n",
        "    - [x] **Logistic regression** is used to predict probability of certain class (in our case class of most intresting products)\n",
        "#### modeling assumptions\n",
        "assumptions of Logistic regression:\n",
        "- No missing values allowed\n",
        "- all attributes are numbers\n",
        "- not require a linear relationship between the dependent and independent variables.  \n",
        "- Requier two classes (either 1 or 0)\n",
        "- independent observations"
      ]
    },
    {
      "cell_type": "markdown",
      "metadata": {
        "id": "MTt2pAHhr8Od",
        "tags": []
      },
      "source": [
        "## generate test design\n",
        "------------------\n",
        "\n",
        "### task\n",
        "\n",
        "Before we actually build a model, we need to generate a procedure or mechanism to test the model's quality and validity. For example, in supervised data mining tasks such as classification, it is common to use error rates as quality measures for data mining models. Therefore, we typically separate the dataset into train and test set, build the model on the train set and estimate its quality on the separate test set.\n",
        "\n",
        "### output\n",
        "\n",
        "Describe the intended plan for training, testing and evaluating the models. A primary component of the plan is to decide how to divide the available dataset into training data, test data and validation datasets.\n"
      ]
    },
    {
      "cell_type": "markdown",
      "metadata": {
        "id": "yQwhaatmZIcF"
      },
      "source": [
        "## Answer: generate test design\n",
        "For training and testing data will be splited into train and test sets (80% for training, 20% for testing).\n",
        "As given problem is classification then ***accuracy, confusion matrix, recall and presision** as evaluation will be used."
      ]
    },
    {
      "cell_type": "markdown",
      "metadata": {
        "id": "SAEHAkLIsImG",
        "tags": []
      },
      "source": [
        "## build model\n",
        "----------\n",
        "\n",
        "### task\n",
        "\n",
        "Run the modeling tool on the prepared dataset to create one or more models.\n",
        "\n",
        "### output\n",
        "\n",
        "#### parameter settings \n",
        "\n",
        "With any modeling tool, there are often a large number of parameters that can be adjusted. List the parameters and their chosen value, along with the rationale for the choice of parameter settings. \n",
        "\n",
        "#### models \n",
        "\n",
        "These are the actual models produced by the modeling tool, not a report.\n",
        "\n",
        "#### model description\n",
        "\n",
        "describe the resultant model. Report on the interpretation of the models and document any difficulties encountered with their meanings.\n"
      ]
    },
    {
      "cell_type": "markdown",
      "metadata": {
        "id": "OZ5RQXwVZIcG"
      },
      "source": [
        "## Answer: build model\n",
        "### parameter settings\n",
        "- [x] max_iter:100\n",
        "- [ ] penalty: none,**l2**\n",
        "- [ ] C: 0.5,**1**,2\n",
        "- [x] solver: **sag** saga ‘newton-cg\n",
        "### models\n",
        "From Ligistic regression predictions of products with `satisfaction` >0.47 expected (marked as class 1)\n",
        "### model description\n",
        "As result given predictions can be used to predict relevant product for some country during given month. with query shown bellow"
      ]
    },
    {
      "cell_type": "code",
      "execution_count": null,
      "metadata": {
        "id": "px_kDnaNZIcH"
      },
      "outputs": [],
      "source": [
        "\n",
        "X,y = df.drop(['Satisfaction','Description','Unnamed: 0'],axis=1),df['Satisfaction']"
      ]
    },
    {
      "cell_type": "code",
      "execution_count": null,
      "metadata": {
        "id": "AwPOaNs6ZIcI"
      },
      "outputs": [],
      "source": [
        "# split data\n",
        "\n",
        "## random split\n",
        "from sklearn.model_selection import train_test_split\n",
        "X_train, X_test, y_train, y_test = train_test_split(X, y,test_size=0.2,random_state=42,stratify=y)"
      ]
    },
    {
      "cell_type": "markdown",
      "metadata": {
        "tags": [],
        "id": "M_wbn41FZIcI"
      },
      "source": [
        "### regression\n",
        "-------------"
      ]
    },
    {
      "cell_type": "markdown",
      "metadata": {
        "tags": [],
        "id": "fmSq5KG1ZIcJ"
      },
      "source": [
        "### classification\n",
        "------------"
      ]
    },
    {
      "cell_type": "markdown",
      "metadata": {
        "id": "0qKZmC1fZIcJ"
      },
      "source": [
        "#### imbalanced data"
      ]
    },
    {
      "cell_type": "code",
      "execution_count": null,
      "metadata": {
        "id": "GG1pkD79ZIcJ"
      },
      "outputs": [],
      "source": [
        "# imbalanced data: https://www.analyticsvidhya.com/blog/2020/07/10-techniques-to-deal-with-class-imbalance-in-machine-learning/\n",
        "## random under sampler\n",
        "#from imblearn.under_sampling import RandomUnderSampler\n",
        "#sampler = RandomUnderSampler()\n",
        "\n",
        "# random over sampler\n",
        "from imblearn.over_sampling import RandomOverSampler\n",
        "sampler = RandomOverSampler()\n",
        "\n",
        "\n",
        "## sampling\n",
        "X_train, y_train = sampler.fit_resample(X_train, y_train)"
      ]
    },
    {
      "cell_type": "markdown",
      "metadata": {
        "tags": [],
        "id": "FHFW93aKZIcK"
      },
      "source": [
        "#### modeling"
      ]
    },
    {
      "cell_type": "code",
      "execution_count": null,
      "metadata": {
        "id": "LFvYmeNRZIcK"
      },
      "outputs": [],
      "source": [
        "#Ligistic Regression\n",
        "from sklearn.linear_model import LogisticRegression\n",
        "model = LogisticRegression(max_iter=100,solver='sag')\n",
        "model.fit(X_train, y_train)\n",
        "y_pred = model.predict(X_test)"
      ]
    },
    {
      "cell_type": "code",
      "execution_count": null,
      "metadata": {
        "id": "G920GWHxZIcL",
        "outputId": "b87f521c-63ef-43e9-b553-6f7d64e70142"
      },
      "outputs": [
        {
          "data": {
            "text/plain": [
              "['RETROSPOT PARTY BAG + STICKER SET',\n",
              " 'SMALL RED RETROSPOT WINDMILL',\n",
              " 'PANTRY PASTRY BRUSH',\n",
              " 'WHITE SPOT BLUE CERAMIC DRAWER KNOB',\n",
              " 'SET/6 FRUIT SALAD PAPER CUPS',\n",
              " '12 PENCILS TALL TUBE WOODLAND',\n",
              " 'CERAMIC BOWL WITH LOVE HEART DESIGN',\n",
              " 'PACK OF 6 SKULL PAPER PLATES',\n",
              " 'PLASTERS IN TIN STRONGMAN',\n",
              " 'SET OF 72 RETROSPOT PAPER  DOILIES',\n",
              " 'PLASTERS IN TIN WOODLAND ANIMALS',\n",
              " 'STRAWBERRY CERAMIC TRINKET BOX',\n",
              " 'PLASTERS IN TIN WOODLAND ANIMALS',\n",
              " 'WHITE SPOT RED CERAMIC DRAWER KNOB',\n",
              " 'WRAP RED APPLES ',\n",
              " 'WRAP CIRCUS PARADE',\n",
              " 'RED STRIPE CERAMIC DRAWER KNOB',\n",
              " 'RED KITCHEN SCALES',\n",
              " 'STRAWBERRY CERAMIC TRINKET BOX',\n",
              " 'DOLLY GIRL CHILDRENS EGG CUP',\n",
              " 'SET/20 RED RETROSPOT PAPER NAPKINS ',\n",
              " 'HAPPY STENCIL CRAFT',\n",
              " 'BUNNY WOODEN PAINTED WITH BIRD ',\n",
              " 'EASTER TIN CHICKS IN GARDEN',\n",
              " 'TRAVEL CARD WALLET PANTRY',\n",
              " 'PANTRY SCRUBBING BRUSH',\n",
              " 'WALL TIDY RETROSPOT ',\n",
              " 'BIG DOUGHNUT FRIDGE MAGNETS',\n",
              " 'GIN AND TONIC MUG',\n",
              " 'RED TOADSTOOL LED NIGHT LIGHT',\n",
              " 'PACK OF 6 SKULL PAPER CUPS',\n",
              " 'TRAVEL CARD WALLET RETRO PETALS',\n",
              " 'DOLLY HONEYCOMB GARLAND',\n",
              " 'TOOTHPASTE TUBE PEN',\n",
              " 'MONSTERS STENCIL CRAFT',\n",
              " 'VINTAGE HEADS AND TAILS CARD GAME ',\n",
              " 'VICTORIAN GLASS HANGING T-LIGHT',\n",
              " 'PACK OF 20 NAPKINS PANTRY DESIGN',\n",
              " 'BLUE POLKADOT COFFEE MUG',\n",
              " '10 COLOUR SPACEBOY PEN',\n",
              " 'PACK OF 12 RED RETROSPOT TISSUES ',\n",
              " 'LIPSTICK PEN BABY PINK',\n",
              " 'RETROSPOT HEART HOT WATER BOTTLE',\n",
              " 'WRAP SUKI AND FRIENDS',\n",
              " 'WRAP POPPIES  DESIGN',\n",
              " 'TEA PARTY BIRTHDAY CARD',\n",
              " 'FELT FARM ANIMAL WHITE BUNNY ',\n",
              " 'SET/10 PINK POLKADOT PARTY CANDLES',\n",
              " 'FEATHER PEN,HOT PINK',\n",
              " 'PURPLE DRAWERKNOB ACRYLIC EDWARDIAN',\n",
              " 'ROUND CONTAINER SET OF 5 RETROSPOT',\n",
              " 'BLUE POLKADOT PLATE ',\n",
              " 'CHILDS GARDEN TROWEL BLUE ',\n",
              " 'JAM JAR WITH PINK LID',\n",
              " 'BLUE STRIPE CERAMIC DRAWER KNOB',\n",
              " 'JAM JAR WITH GREEN LID',\n",
              " '6 RIBBONS RUSTIC CHARM',\n",
              " 'EMERGENCY FIRST AID TIN ',\n",
              " 'RED TOADSTOOL LED NIGHT LIGHT',\n",
              " 'COFFEE MUG APPLES DESIGN',\n",
              " 'ROUND CONTAINER SET OF 5 RETROSPOT',\n",
              " 'SPACEBOY LUNCH BOX ',\n",
              " 'WRAP DOILEY DESIGN',\n",
              " 'REGENCY CAKESTAND 3 TIER']"
            ]
          },
          "execution_count": 14,
          "metadata": {},
          "output_type": "execute_result"
        }
      ],
      "source": [
        "prediction = pd.concat([df.loc[y_test.index],pd.DataFrame(y_pred,columns=['pred'],index=y_test.index)],axis=1)\n",
        "m1 = prediction['Germany']==1\n",
        "m2 = prediction['Month']==3\n",
        "m3 = prediction['pred']==1\n",
        "mask = pd.concat([m1,m2,m3],axis=1).all(axis=1)\n",
        "prediction[mask]['Description'].to_list()"
      ]
    },
    {
      "cell_type": "code",
      "execution_count": null,
      "metadata": {
        "id": "dwy4liZXZIcL"
      },
      "outputs": [],
      "source": [
        "prediction.to_csv('./data/prediction.csv')"
      ]
    },
    {
      "cell_type": "markdown",
      "metadata": {
        "id": "Iti3tzNZZIcL"
      },
      "source": [
        "## Tuning"
      ]
    },
    {
      "cell_type": "code",
      "execution_count": null,
      "metadata": {
        "id": "Sok5ycNpZIcL"
      },
      "outputs": [],
      "source": [
        "from sklearn.model_selection import GridSearchCV\n",
        "param_grid = {'max_iter':[120,90], 'penalty': ['none','l2'], 'C': [0.5, 2], 'solver': ['sag', 'saga']}\n",
        "#param_grid = {'max_iter':[120,90], 'solver': ['sag', 'saga']}\n",
        "gs = GridSearchCV(LogisticRegression(), param_grid)\n",
        "gs.fit(X_train, y_train)\n",
        "print(gs.best_params_)\n",
        "y_best_pred = gs.predict(X_test)"
      ]
    },
    {
      "cell_type": "code",
      "execution_count": null,
      "metadata": {
        "id": "T6EOX_UIZIcL"
      },
      "outputs": [],
      "source": [
        "best_model = gs.best_estimator_"
      ]
    },
    {
      "cell_type": "code",
      "execution_count": null,
      "metadata": {
        "id": "uZ-NRpErZIcM"
      },
      "outputs": [],
      "source": [
        "prediction1 = pd.concat([df.loc[y_test.index],pd.DataFrame(y_best_pred,columns=['pred'],index=y_test.index)],axis=1)\n",
        "m1 = prediction1['Germany']==1\n",
        "m2 = prediction1['Month']==3\n",
        "m3 = prediction1['pred']==1\n",
        "mask = pd.concat([m1,m2,m3],axis=1).all(axis=1)\n",
        "print(prediction[mask]['Description'].to_list())\n",
        "prediction1.to_csv('./data/prediction_best.csv')"
      ]
    },
    {
      "cell_type": "markdown",
      "metadata": {
        "id": "NLwXOV0Tsgzi"
      },
      "source": [
        "## assess model\n",
        "-------------\n",
        "\n",
        "### task\n",
        "\n",
        "The data mining engineer interprets the models according to his domain knowledge, the data mining success criteria and the desired test design. This task interferes with the subsequent evaluation phase. Whereas the data mining engineer judges the success of the application of modeling and discovery techniques more technically, he contacts business analysts and domain experts later in order to discuss the data mining results in the business context. Moreover, this task only considers models whereas the evaluation phase also takes into account all other results that were produced in the course of the project. The data mining engineer tries to rank the models. He assesses the models according to the evaluation criteria. As far as possible he also takes into account business objectives and business success criteria. In most data mining projects, the data mining engineer applies a single technique more than once or generates data mining results with different alternative techniques. In this task, he also compares all results according to the evaluation criteria.\n",
        "\n",
        "### output\n",
        "\n",
        "#### model assessment\n",
        "\n",
        "Summarize results of this task, list qualities of generated models (e.g.,in terms of accuracy) and rank their quality in relation to each other. \n",
        "\n",
        "#### revised parameter settings\n",
        "\n",
        "According to the model assessment, revise parameter settings and tune them for the next run in the Build Model task. Iterate model building and assessment until you strongly believe that you found the best model(s). Document all such revisions and assessments.\n"
      ]
    },
    {
      "cell_type": "markdown",
      "metadata": {
        "id": "hqLsxC9nZIcN"
      },
      "source": [
        "## Model assessment\n",
        "Performance of initial model (parameters shown above) was measured as:\n",
        "- accuracy `79%`\n",
        "- confusion matrix\n",
        "\\begin{bmatrix}\n",
        "60991 & 12368\\\\\n",
        "4328 & 2350 \n",
        "\\end{bmatrix}\n",
        "\n",
        "- precision 0.1596684332110341\n",
        "- recall 0.35190176699610665\n",
        "## revised parameter settings\n",
        "Following parameters will be tuned\n",
        "- max_iter:[100,120,130,135]\n",
        "- penalty: [none,l2]\n",
        "- C: [0.5,1,2]\n",
        "- solver: ['sag' 'saga', ‘newton-cg']"
      ]
    },
    {
      "cell_type": "markdown",
      "metadata": {
        "id": "c1lytUcdZIcN"
      },
      "source": [
        "### regression\n",
        "-----------------"
      ]
    },
    {
      "cell_type": "code",
      "execution_count": null,
      "metadata": {
        "id": "hZ93vWnjZIcN"
      },
      "outputs": [],
      "source": [
        ""
      ]
    },
    {
      "cell_type": "markdown",
      "metadata": {
        "id": "41wjzNu8ZIcN"
      },
      "source": [
        "### classification\n",
        "----------------\n"
      ]
    },
    {
      "cell_type": "code",
      "execution_count": null,
      "metadata": {
        "id": "MjtTORwCZIcN"
      },
      "outputs": [],
      "source": [
        "# accuracy\n",
        "from sklearn.metrics import accuracy_score\n",
        "accuracy = accuracy_score(y_test, y_pred)\n",
        "print(str('{:.1g}'.format(accuracy * 100)) + '%')"
      ]
    },
    {
      "cell_type": "code",
      "execution_count": null,
      "metadata": {
        "id": "SPeBT3IwZIcP"
      },
      "outputs": [],
      "source": [
        "print(str(int(accuracy*100))+'%')"
      ]
    },
    {
      "cell_type": "code",
      "execution_count": null,
      "metadata": {
        "id": "iu925zyDZIcP"
      },
      "outputs": [],
      "source": [
        "# confusion matrix\n",
        "from sklearn.metrics import confusion_matrix, plot_confusion_matrix\n",
        "cm = confusion_matrix(y_test, y_pred)\n",
        "print(cm)\n",
        "plot_confusion_matrix(model,X_test,y_true=y_test)\n",
        "plt.show()"
      ]
    },
    {
      "cell_type": "code",
      "execution_count": null,
      "metadata": {
        "id": "Mea0RToFZIcP"
      },
      "outputs": [],
      "source": [
        "from sklearn.metrics import precision_score, recall_score\n",
        "print(f\"precision {precision_score(y_test,y_pred)}\")\n",
        "print(f\"recall {recall_score(y_test,y_pred)}\")"
      ]
    },
    {
      "cell_type": "code",
      "execution_count": null,
      "metadata": {
        "id": "yRfnp3Z9ZIcP"
      },
      "outputs": [],
      "source": [
        "print(\"Results for best model\")\n",
        "accuracy = accuracy_score(y_test, y_best_pred)\n",
        "print(str(int(accuracy*100))+'%')\n",
        "cm = confusion_matrix(y_test, y_best_pred)\n",
        "print(cm)\n",
        "plot_confusion_matrix(best_model,X_test,y_true=y_test)\n",
        "plt.show()\n",
        "print(f\"precision {precision_score(y_test,y_best_pred)}\")\n",
        "print(f\"recall {recall_score(y_test,y_best_pred)}\")"
      ]
    },
    {
      "cell_type": "markdown",
      "metadata": {
        "id": "-u6lu6ep4EgC"
      },
      "source": [
        "## note/questions\n",
        "-------------\n",
        "\n",
        "#### select modeling technique\n",
        "\n",
        "#### generate test design\n",
        "\n",
        "#### build model\n",
        "\n",
        "#### assess model\n"
      ]
    },
    {
      "cell_type": "code",
      "execution_count": null,
      "metadata": {
        "id": "77gTgxgz4PYQ"
      },
      "outputs": [],
      "source": [
        ""
      ]
    }
  ],
  "metadata": {
    "colab": {
      "collapsed_sections": [],
      "name": "4_modeling.ipynb",
      "provenance": [],
      "machine_shape": "hm"
    },
    "kernelspec": {
      "display_name": "Python 3 (ipykernel)",
      "language": "python",
      "name": "python3"
    },
    "language_info": {
      "codemirror_mode": {
        "name": "ipython",
        "version": 3
      },
      "file_extension": ".py",
      "mimetype": "text/x-python",
      "name": "python",
      "nbconvert_exporter": "python",
      "pygments_lexer": "ipython3",
      "version": "3.8.10"
    },
    "accelerator": "GPU"
  },
  "nbformat": 4,
  "nbformat_minor": 0
}